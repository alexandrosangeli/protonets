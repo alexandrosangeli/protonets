{
 "cells": [
  {
   "cell_type": "code",
   "execution_count": 91,
   "metadata": {},
   "outputs": [],
   "source": [
    "import random\n",
    "import math\n",
    "from timeit import timeit\n",
    "import matplotlib.pyplot as plt"
   ]
  },
  {
   "cell_type": "code",
   "execution_count": 85,
   "metadata": {},
   "outputs": [],
   "source": [
    "def rand_normal_slow(n):\n",
    "    if n < 1:\n",
    "        return None\n",
    "    \n",
    "    rands = []\n",
    "    for i in range(n):\n",
    "        u1 = random.uniform(0, 1)\n",
    "        u2 = random.uniform(0, 1)\n",
    "        \n",
    "        z0 = math.sqrt(-2 * math.log(u1)) * math.cos(2 * math.pi * u2)\n",
    "        z1 = math.sqrt(-2 * math.log(u1)) * math.sin(2 * math.pi * u2)\n",
    "\n",
    "        rands.append(z0)\n",
    "\n",
    "    return rands\n",
    "\n",
    "\n",
    "\n",
    "def rand_normal(n):\n",
    "    if n < 1:\n",
    "        return None\n",
    "\n",
    "    rands = []\n",
    "    i = 0\n",
    "    for i in range(n//2 + 1):\n",
    "        u1 = random.uniform(0, 1)\n",
    "        u2 = random.uniform(0, 1)\n",
    "\n",
    "        z0 = math.sqrt(-2 * math.log(u1)) * math.cos(2 * math.pi * u2)\n",
    "        z1 = math.sqrt(-2 * math.log(u1)) * math.sin(2 * math.pi * u2)\n",
    "        \n",
    "        rands.append(z0)\n",
    "        rands.append(z1)\n",
    "\n",
    "    return rands[:n]"
   ]
  },
  {
   "cell_type": "code",
   "execution_count": 88,
   "metadata": {},
   "outputs": [
    {
     "name": "stdout",
     "output_type": "stream",
     "text": [
      "200000\n"
     ]
    },
    {
     "data": {
      "image/png": "[encoded data removed]",
      "text/plain": [
       "<Figure size 432x288 with 1 Axes>"
      ]
     },
     "metadata": {
      "needs_background": "light"
     },
     "output_type": "display_data"
    }
   ],
   "source": [
    "# Plot the distribution to verify\n",
    "rands = rand_normal(200000)\n",
    "print(len(rands))\n",
    "plt.hist(rands, bins=100)\n",
    "plt.show()\n",
    "%matplotlib inline "
   ]
  },
  {
   "cell_type": "code",
   "execution_count": 90,
   "metadata": {},
   "outputs": [
    {
     "name": "stdout",
     "output_type": "stream",
     "text": [
      "Average time in seconds to generate 10000 numbers using the slow function: 12.423921950001386\n",
      "Average time in seconds to generate 10000 numbers using the (more) efficient function: 7.342778509992058\n"
     ]
    }
   ],
   "source": [
    "t0 = timeit(lambda: rand_normal_slow(10000), number=1000)\n",
    "print(\"Average time in seconds to generate 10000 numbers using the slow function:\", t0)\n",
    "\n",
    "t1 = timeit(lambda: rand_normal(10000), number=1000)\n",
    "print(\"Average time in seconds to generate 10000 numbers using the (more) efficient function:\", t1)\n"
   ]
  }
 ],
 "metadata": {
  "kernelspec": {
   "display_name": "base",
   "language": "python",
   "name": "python3"
  },
  "language_info": {
   "codemirror_mode": {
    "name": "ipython",
    "version": 3
   },
   "file_extension": ".py",
   "mimetype": "text/x-python",
   "name": "python",
   "nbconvert_exporter": "python",
   "pygments_lexer": "ipython3",
   "version": "3.9.12"
  },
  "orig_nbformat": 4
 },
 "nbformat": 4,
 "nbformat_minor": 2
}
